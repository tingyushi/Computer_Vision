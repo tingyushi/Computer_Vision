{
 "cells": [
  {
   "cell_type": "markdown",
   "id": "0605e292",
   "metadata": {},
   "source": [
    "# MNIST Image Classification using LeNet-5\n",
    "\n",
    "![](images/Lenet-5.png)\n",
    "\n",
    "## Activation Function\n",
    "Tanh\n",
    "\n",
    "## Fully Connected VS. Gaussian Connected\n",
    "* Fully Connected: Activation Function exists\n",
    "* Gaussian Connected: Activation Function does not exist"
   ]
  },
  {
   "cell_type": "markdown",
   "id": "48d50755",
   "metadata": {},
   "source": [
    "## Import Packages"
   ]
  },
  {
   "cell_type": "code",
   "execution_count": 14,
   "id": "b538af6c",
   "metadata": {},
   "outputs": [],
   "source": [
    "import numpy as np\n",
    "import matplotlib.pyplot as plt\n",
    "import pandas as pd\n",
    "import tensorflow as tf\n",
    "import tensorflow.keras.layers as tfl\n",
    "import tensorflow.keras.datasets.mnist as mnist\n",
    "import tensorflow.keras as keras\n",
    "from progressbar import progressbar"
   ]
  },
  {
   "cell_type": "markdown",
   "id": "27ee027a",
   "metadata": {},
   "source": [
    "## Load data"
   ]
  },
  {
   "cell_type": "code",
   "execution_count": 3,
   "id": "362499d5",
   "metadata": {},
   "outputs": [],
   "source": [
    "(x_train, y_train), (x_test, y_test) = mnist.load_data()"
   ]
  },
  {
   "cell_type": "code",
   "execution_count": 4,
   "id": "be92b555",
   "metadata": {},
   "outputs": [
    {
     "name": "stdout",
     "output_type": "stream",
     "text": [
      "x_train shape: (60000, 28, 28)\n",
      "y_train shape: (60000,)\n",
      "x_test shape: (10000, 28, 28)\n",
      "y_test shape: (10000,)\n"
     ]
    }
   ],
   "source": [
    "print(f\"x_train shape: {x_train.shape}\")\n",
    "print(f\"y_train shape: {y_train.shape}\")\n",
    "print(f\"x_test shape: {x_test.shape}\")\n",
    "print(f\"y_test shape: {y_test.shape}\")"
   ]
  },
  {
   "cell_type": "code",
   "execution_count": 5,
   "id": "4c941c20",
   "metadata": {},
   "outputs": [],
   "source": [
    "x_cv = x_train[0:10000,:,:]\n",
    "y_cv = y_train[0:10000]\n",
    "x_train = x_train[10000:60000,:,:]\n",
    "y_train = y_train[10000:60000]"
   ]
  },
  {
   "cell_type": "code",
   "execution_count": 8,
   "id": "d73e1f80",
   "metadata": {},
   "outputs": [
    {
     "data": {
      "image/png": "[encoded data removed]",
      "text/plain": [
       "<Figure size 640x480 with 1 Axes>"
      ]
     },
     "metadata": {},
     "output_type": "display_data"
    }
   ],
   "source": [
    "def show_image(image, label):\n",
    "    plt.imshow(np.uint8(image) , 'gray')\n",
    "    plt.title(f\"Correct label is {label}\")\n",
    "\n",
    "show_image(x_train[0], y_train[0])"
   ]
  },
  {
   "cell_type": "code",
   "execution_count": 9,
   "id": "eeaee4f7",
   "metadata": {},
   "outputs": [],
   "source": [
    "# normalize the data\n",
    "x_train = x_train / 255 ; x_cv = x_cv / 255 ; x_test = x_test / 255"
   ]
  },
  {
   "cell_type": "markdown",
   "id": "a7757f27",
   "metadata": {},
   "source": [
    "## Build LeNet-5"
   ]
  },
  {
   "cell_type": "code",
   "execution_count": 21,
   "id": "8cef93c4",
   "metadata": {},
   "outputs": [],
   "source": [
    "lenet_5 = tf.keras.Sequential([\n",
    "    tf.keras.Input(shape = (28, 28, 1)),\n",
    "    \n",
    "    # conv\n",
    "    tfl.Conv2D(filters = 6,\n",
    "               kernel_size = (5, 5),\n",
    "               strides = (1, 1),\n",
    "               padding ='same',\n",
    "               activation ='tanh'),\n",
    "    \n",
    "    # subsampling\n",
    "    tfl.AveragePooling2D(pool_size = (2, 2),\n",
    "                         strides = (2, 2)),\n",
    "    \n",
    "    # conv\n",
    "    tfl.Conv2D(filters = 16,\n",
    "               kernel_size = (5, 5),\n",
    "               strides = (1, 1),\n",
    "               padding ='valid',\n",
    "               activation ='tanh'),\n",
    "    \n",
    "    # subsampling\n",
    "    tfl.AveragePooling2D(pool_size = (2, 2),\n",
    "                         strides = (2, 2)),\n",
    "    \n",
    "    # conv\n",
    "    tfl.Conv2D(filters = 120,\n",
    "               kernel_size = (5, 5),\n",
    "               strides = (1, 1),\n",
    "               padding ='valid',\n",
    "               activation ='tanh'),\n",
    "    \n",
    "    tfl.Flatten(),\n",
    "    \n",
    "    tfl.Dense(units = 84, activation ='tanh'),\n",
    "\n",
    "    tfl.Dense(units = 10, activation ='softmax')\n",
    "        ])"
   ]
  },
  {
   "cell_type": "code",
   "execution_count": 22,
   "id": "b979a4c0",
   "metadata": {},
   "outputs": [
    {
     "name": "stdout",
     "output_type": "stream",
     "text": [
      "Model: \"sequential_10\"\n",
      "_________________________________________________________________\n",
      " Layer (type)                Output Shape              Param #   \n",
      "=================================================================\n",
      " conv2d_30 (Conv2D)          (None, 28, 28, 6)         156       \n",
      "                                                                 \n",
      " average_pooling2d_20 (Avera  (None, 14, 14, 6)        0         \n",
      " gePooling2D)                                                    \n",
      "                                                                 \n",
      " conv2d_31 (Conv2D)          (None, 10, 10, 16)        2416      \n",
      "                                                                 \n",
      " average_pooling2d_21 (Avera  (None, 5, 5, 16)         0         \n",
      " gePooling2D)                                                    \n",
      "                                                                 \n",
      " conv2d_32 (Conv2D)          (None, 1, 1, 120)         48120     \n",
      "                                                                 \n",
      " flatten_10 (Flatten)        (None, 120)               0         \n",
      "                                                                 \n",
      " dense_20 (Dense)            (None, 84)                10164     \n",
      "                                                                 \n",
      " dense_21 (Dense)            (None, 10)                850       \n",
      "                                                                 \n",
      "=================================================================\n",
      "Total params: 61,706\n",
      "Trainable params: 61,706\n",
      "Non-trainable params: 0\n",
      "_________________________________________________________________\n"
     ]
    }
   ],
   "source": [
    "lenet_5.summary()"
   ]
  },
  {
   "cell_type": "code",
   "execution_count": 23,
   "id": "76965223",
   "metadata": {},
   "outputs": [
    {
     "name": "stdout",
     "output_type": "stream",
     "text": [
      "Epoch 1/5\n"
     ]
    },
    {
     "name": "stderr",
     "output_type": "stream",
     "text": [
      "2023-07-27 14:49:03.104652: I tensorflow/core/grappler/optimizers/custom_graph_optimizer_registry.cc:114] Plugin optimizer for device_type GPU is enabled.\n",
      "2023-07-27 14:49:03.156345: E tensorflow/core/grappler/optimizers/meta_optimizer.cc:954] model_pruner failed: INVALID_ARGUMENT: Graph does not contain terminal node AssignAddVariableOp_10.\n"
     ]
    },
    {
     "name": "stdout",
     "output_type": "stream",
     "text": [
      "1563/1563 [==============================] - ETA: 0s - loss: 0.2585 - accuracy: 0.9220"
     ]
    },
    {
     "name": "stderr",
     "output_type": "stream",
     "text": [
      "2023-07-27 14:49:24.306204: I tensorflow/core/grappler/optimizers/custom_graph_optimizer_registry.cc:114] Plugin optimizer for device_type GPU is enabled.\n"
     ]
    },
    {
     "name": "stdout",
     "output_type": "stream",
     "text": [
      "1563/1563 [==============================] - 24s 15ms/step - loss: 0.2585 - accuracy: 0.9220 - val_loss: 0.1226 - val_accuracy: 0.9622\n",
      "Epoch 2/5\n",
      "1563/1563 [==============================] - 22s 14ms/step - loss: 0.1002 - accuracy: 0.9688 - val_loss: 0.1108 - val_accuracy: 0.9658\n",
      "Epoch 3/5\n",
      "1563/1563 [==============================] - 23s 15ms/step - loss: 0.0663 - accuracy: 0.9793 - val_loss: 0.0760 - val_accuracy: 0.9773\n",
      "Epoch 4/5\n",
      "1563/1563 [==============================] - 23s 15ms/step - loss: 0.0486 - accuracy: 0.9848 - val_loss: 0.0748 - val_accuracy: 0.9781\n",
      "Epoch 5/5\n",
      "1563/1563 [==============================] - 22s 14ms/step - loss: 0.0389 - accuracy: 0.9880 - val_loss: 0.0655 - val_accuracy: 0.9810\n"
     ]
    }
   ],
   "source": [
    "lenet_5.compile(optimizer = 'adam', \n",
    "                loss = 'sparse_categorical_crossentropy', \n",
    "                metrics = ['accuracy'])\n",
    "\n",
    "lent = lenet_5.fit(x_train, \n",
    "                   y_train, \n",
    "                   epochs = 5, \n",
    "                   validation_data = (x_cv, y_cv))\n"
   ]
  },
  {
   "cell_type": "code",
   "execution_count": 24,
   "id": "96d3754f",
   "metadata": {},
   "outputs": [
    {
     "data": {
      "text/plain": [
       "<Axes: >"
      ]
     },
     "execution_count": 24,
     "metadata": {},
     "output_type": "execute_result"
    },
    {
     "data": {
      "image/png": "[encoded data removed]",
      "text/plain": [
       "<Figure size 640x480 with 1 Axes>"
      ]
     },
     "metadata": {},
     "output_type": "display_data"
    }
   ],
   "source": [
    "lenet_5_loss = pd.DataFrame(lenet_5.history.history)\n",
    "lenet_5_loss.plot()"
   ]
  },
  {
   "cell_type": "code",
   "execution_count": 25,
   "id": "c97d7ed7",
   "metadata": {},
   "outputs": [
    {
     "name": "stdout",
     "output_type": "stream",
     "text": [
      "313/313 [==============================] - 2s 7ms/step - loss: 0.0553 - accuracy: 0.9808\n"
     ]
    },
    {
     "data": {
      "text/plain": [
       "[0.05532898008823395, 0.9807999730110168]"
      ]
     },
     "execution_count": 25,
     "metadata": {},
     "output_type": "execute_result"
    }
   ],
   "source": [
    "lenet_5.evaluate(x_test, y_test)"
   ]
  },
  {
   "cell_type": "markdown",
   "id": "444e9ad7",
   "metadata": {},
   "source": [
    "## Predict Number"
   ]
  },
  {
   "cell_type": "code",
   "execution_count": 32,
   "id": "e1b1d8f9",
   "metadata": {},
   "outputs": [
    {
     "name": "stdout",
     "output_type": "stream",
     "text": [
      "1/1 [==============================] - 0s 21ms/step\n"
     ]
    },
    {
     "data": {
      "image/png": "[encoded data removed]",
      "text/plain": [
       "<Figure size 640x480 with 1 Axes>"
      ]
     },
     "metadata": {},
     "output_type": "display_data"
    }
   ],
   "source": [
    "def predict_number(img, model):\n",
    "    plt.imshow(img, 'gray')\n",
    "    img = np.array([img])\n",
    "    predicted_number = np.argmax(model.predict(img))\n",
    "    plt.title(\"Predicted Number is \" + str(predicted_number))\n",
    "\n",
    "predict_number(x_test[312], lenet_5)"
   ]
  }
 ],
 "metadata": {
  "kernelspec": {
   "display_name": "Python 3.10 (tensorflow)",
   "language": "python",
   "name": "tensorflow"
  },
  "language_info": {
   "codemirror_mode": {
    "name": "ipython",
    "version": 3
   },
   "file_extension": ".py",
   "mimetype": "text/x-python",
   "name": "python",
   "nbconvert_exporter": "python",
   "pygments_lexer": "ipython3",
   "version": "3.10.12"
  }
 },
 "nbformat": 4,
 "nbformat_minor": 5
}
